{
 "cells": [
  {
   "cell_type": "markdown",
   "id": "46679fda",
   "metadata": {},
   "source": [
    "# Package installation is required only once"
   ]
  },
  {
   "cell_type": "code",
   "execution_count": null,
   "id": "5d77686e",
   "metadata": {},
   "outputs": [],
   "source": [
    "#pip install -r packages.txt"
   ]
  },
  {
   "cell_type": "code",
   "execution_count": 1,
   "id": "f9e37d85",
   "metadata": {},
   "outputs": [
    {
     "name": "stderr",
     "output_type": "stream",
     "text": [
      "C:\\Users\\reagon.karki\\Anaconda3\\envs\\bycovid_new\\lib\\site-packages\\pybel\\struct\\operations.py:8: TqdmWarning: IProgress not found. Please update jupyter and ipywidgets. See https://ipywidgets.readthedocs.io/en/stable/user_install.html\n",
      "  from tqdm.autonotebook import tqdm\n"
     ]
    }
   ],
   "source": [
    "import pybel\n",
    "from tqdm import tqdm\n",
    "import pandas as pd\n",
    "from pybel.dsl import *\n",
    "import chembl_webresource_client\n",
    "import openpyxl\n",
    "import seaborn as sns\n",
    "import networkx as nx\n",
    "from pybel.io.jupyter import to_jupyter\n",
    "import matplotlib.pyplot as plt\n",
    "from chembl_webresource_client.new_client import new_client\n",
    "import pubchempy\n",
    "import pickle\n",
    "import re\n",
    "from mpox import *\n",
    "import pubchempy as pcp\n",
    "import urllib\n",
    "from urllib.parse import urlparse\n",
    "import io\n"
   ]
  },
  {
   "cell_type": "markdown",
   "id": "f5e4fc12",
   "metadata": {},
   "source": [
    "# Load the graph"
   ]
  },
  {
   "cell_type": "code",
   "execution_count": 19,
   "id": "8959a818",
   "metadata": {},
   "outputs": [],
   "source": [
    "infile = open('data/monkeypox_pickle_final_25thJuly.pkl','rb')\n",
    "mpox_graph = pickle.load(infile)\n",
    "infile.close()"
   ]
  },
  {
   "cell_type": "markdown",
   "id": "f05f4f66",
   "metadata": {},
   "source": [
    "# Show graph summary"
   ]
  },
  {
   "cell_type": "code",
   "execution_count": 20,
   "id": "d646a8f5",
   "metadata": {},
   "outputs": [
    {
     "data": {
      "text/html": [
       "            <h2>Metadata</h2>\n",
       "            <table>\n",
       "<tbody>\n",
       "<tr><td>Name   </td><td>Monkeypox Graph</td></tr>\n",
       "<tr><td>Version</td><td>               </td></tr>\n",
       "</tbody>\n",
       "</table>\n",
       "            <h2>Statistics</h2>\n",
       "            <table>\n",
       "<tbody>\n",
       "<tr><td>Nodes          </td><td style=\"text-align: right;\"> 8235       </td></tr>\n",
       "<tr><td>Namespaces     </td><td style=\"text-align: right;\">   10       </td></tr>\n",
       "<tr><td>Edges          </td><td style=\"text-align: right;\">40422       </td></tr>\n",
       "<tr><td>Annotations    </td><td style=\"text-align: right;\">    0       </td></tr>\n",
       "<tr><td>Citations      </td><td style=\"text-align: right;\">    3       </td></tr>\n",
       "<tr><td>Authors        </td><td style=\"text-align: right;\">    0       </td></tr>\n",
       "<tr><td>Components     </td><td style=\"text-align: right;\">    3       </td></tr>\n",
       "<tr><td>Warnings       </td><td style=\"text-align: right;\">    0       </td></tr>\n",
       "<tr><td>Network Density</td><td style=\"text-align: right;\">    0.000596</td></tr>\n",
       "</tbody>\n",
       "</table>\n",
       "            <h2>Nodes</h2>\n",
       "            <table>\n",
       "<thead>\n",
       "<tr><th>Type             </th><th style=\"text-align: right;\">  Count</th><th>Example                                        </th></tr>\n",
       "</thead>\n",
       "<tbody>\n",
       "<tr><td>Pathology        </td><td style=\"text-align: right;\">   4226</td><td>path(SideEffect:&quot;hypoglycaemic encephalopathy&quot;)</td></tr>\n",
       "<tr><td>BiologicalProcess</td><td style=\"text-align: right;\">   2195</td><td>bp(GOMF:&quot;choline binding&quot;)                     </td></tr>\n",
       "<tr><td>Abundance        </td><td style=\"text-align: right;\">   1427</td><td>a(ChEMBLAssay:CHEMBL652478)                    </td></tr>\n",
       "<tr><td>Protein          </td><td style=\"text-align: right;\">    387</td><td>p(HGNC:HSD11B1)                                </td></tr>\n",
       "</tbody>\n",
       "</table>\n",
       "            <h2>Namespaces</h2>\n",
       "            <table>\n",
       "<thead>\n",
       "<tr><th>Prefix     </th><th>Name                            </th><th style=\"text-align: right;\">  Count</th><th>Example                                                          </th></tr>\n",
       "</thead>\n",
       "<tbody>\n",
       "<tr><td>SideEffect </td><td>                                </td><td style=\"text-align: right;\">   3319</td><td>path(SideEffect:osteitis)                                        </td></tr>\n",
       "<tr><td>Disease    </td><td>                                </td><td style=\"text-align: right;\">    907</td><td>path(Disease:&quot;Pulmonary Disease, Chronic Obstructive&quot;)           </td></tr>\n",
       "<tr><td>ChEMBLAssay</td><td>                                </td><td style=\"text-align: right;\">    862</td><td>a(ChEMBLAssay:CHEMBL894050)                                      </td></tr>\n",
       "<tr><td>GOBP       </td><td>Gene Ontology                   </td><td style=\"text-align: right;\">    774</td><td>bp(GOBP:&quot;G protein-coupled glutamate receptor signaling pathway&quot;)</td></tr>\n",
       "<tr><td>Reactome   </td><td>Reactome                        </td><td style=\"text-align: right;\">    751</td><td>bp(Reactome:&quot;Signaling by activated point mutants of FGFR1.&quot;)    </td></tr>\n",
       "<tr><td>ChEMBL     </td><td>ChEMBL                          </td><td style=\"text-align: right;\">    565</td><td>a(ChEMBL:CHEMBL428880)                                           </td></tr>\n",
       "<tr><td>GOMF       </td><td>Gene Ontology                   </td><td style=\"text-align: right;\">    537</td><td>bp(GOMF:&quot;MHC class II protein complex binding&quot;)                  </td></tr>\n",
       "<tr><td>HGNC       </td><td>HUGO Gene Nomenclature Committee</td><td style=\"text-align: right;\">    377</td><td>p(HGNC:CACNA1C)                                                  </td></tr>\n",
       "<tr><td>MOA        </td><td>                                </td><td style=\"text-align: right;\">    133</td><td>bp(MOA:&quot;DNA inhibitor&quot;)                                          </td></tr>\n",
       "<tr><td>MPXV       </td><td>                                </td><td style=\"text-align: right;\">     10</td><td>p(MPXV:p28)                                                      </td></tr>\n",
       "</tbody>\n",
       "</table>\n",
       "            <h2>Edges</h2>\n",
       "            <table>\n",
       "<thead>\n",
       "<tr><th>Edge Type                              </th><th style=\"text-align: right;\">  Count</th><th>Example                                                                 </th></tr>\n",
       "</thead>\n",
       "<tbody>\n",
       "<tr><td>Pathology association Abundance        </td><td style=\"text-align: right;\">  13131</td><td>path(SideEffect:hypoaesthesia) association a(ChEMBL:CHEMBL442)          </td></tr>\n",
       "<tr><td>Protein association BiologicalProcess  </td><td style=\"text-align: right;\">   4054</td><td>p(HGNC:CA12) association bp(GOBP:&quot;one-carbon metabolic process&quot;)        </td></tr>\n",
       "<tr><td>Protein association Abundance          </td><td style=\"text-align: right;\">   1090</td><td>p(HGNC:HRH4) association a(ChEMBLAssay:CHEMBL700763)                    </td></tr>\n",
       "<tr><td>BiologicalProcess association Abundance</td><td style=\"text-align: right;\">    246</td><td>bp(MOA:&quot;Cytochrome P450 51 inhibitor&quot;) association a(ChEMBL:CHEMBL64391)</td></tr>\n",
       "</tbody>\n",
       "</table>\n"
      ],
      "text/plain": [
       "<pybel.struct.graph.SummarizeDispatch at 0x1f9bd5c6a40>"
      ]
     },
     "execution_count": 20,
     "metadata": {},
     "output_type": "execute_result"
    }
   ],
   "source": [
    "mpox_graph.summarize"
   ]
  },
  {
   "cell_type": "markdown",
   "id": "0f55df8f",
   "metadata": {},
   "source": [
    "# Bar plots for node types"
   ]
  },
  {
   "cell_type": "code",
   "execution_count": 24,
   "id": "8d9bbe4c",
   "metadata": {},
   "outputs": [
    {
     "data": {
      "text/plain": [
       "[Text(0.5, 0, 'Node'),\n",
       " Text(0, 0.5, 'Number'),\n",
       " Text(0.5, 1.0, 'KG nodes in numbers (Total=8235)')]"
      ]
     },
     "execution_count": 24,
     "metadata": {},
     "output_type": "execute_result"
    },
    {
     "data": {
      "image/png": "[encoded data removed]",
      "text/plain": [
       "<Figure size 432x288 with 1 Axes>"
      ]
     },
     "metadata": {
      "needs_background": "light"
     },
     "output_type": "display_data"
    }
   ],
   "source": [
    "node_data = {'Node':['Pathology','BiologicalProcess','Abundance','Protein'],\n",
    "       'Number':[4226,2195,1427,387]}\n",
    "node = pd.DataFrame(node_data)\n",
    "a = sns.barplot(x=\"Node\", y=\"Number\", data=node)\n",
    "a.set(xlabel='Node',ylabel='Number',title= 'KG nodes in numbers (Total=8235)')"
   ]
  },
  {
   "cell_type": "markdown",
   "id": "810dcf10",
   "metadata": {},
   "source": [
    "# Bar plots for namespace types"
   ]
  },
  {
   "cell_type": "code",
   "execution_count": 23,
   "id": "5758a221",
   "metadata": {},
   "outputs": [
    {
     "data": {
      "text/plain": [
       "[Text(0.5, 0, 'Number'),\n",
       " Text(0, 0.5, 'Namespace'),\n",
       " Text(0.5, 1.0, 'KG Namespace in numbers')]"
      ]
     },
     "execution_count": 23,
     "metadata": {},
     "output_type": "execute_result"
    },
    {
     "data": {
      "image/png": "[encoded data removed]",
      "text/plain": [
       "<Figure size 432x288 with 1 Axes>"
      ]
     },
     "metadata": {
      "needs_background": "light"
     },
     "output_type": "display_data"
    }
   ],
   "source": [
    "nspace_data = {'Namespace':['ChEMBLAssay','ChEMBL','GOBP','GOMF','HGNC','MPXV','Disease','SideEffect','Reactome','MOA'],\n",
    "       'Number':[862,565,774,537,377,10,907,3319,751,133]}\n",
    "nspace = pd.DataFrame(nspace_data)\n",
    "a = sns.barplot(x=\"Number\", y=\"Namespace\", data=nspace_data)\n",
    "a.set(xlabel='Number',ylabel='Namespace',title= 'KG Namespace in numbers')"
   ]
  },
  {
   "cell_type": "code",
   "execution_count": null,
   "id": "68ae6e03",
   "metadata": {},
   "outputs": [],
   "source": []
  }
 ],
 "metadata": {
  "kernelspec": {
   "display_name": "Python 3 (ipykernel)",
   "language": "python",
   "name": "python3"
  },
  "language_info": {
   "codemirror_mode": {
    "name": "ipython",
    "version": 3
   },
   "file_extension": ".py",
   "mimetype": "text/x-python",
   "name": "python",
   "nbconvert_exporter": "python",
   "pygments_lexer": "ipython3",
   "version": "3.10.4"
  }
 },
 "nbformat": 4,
 "nbformat_minor": 5
}
