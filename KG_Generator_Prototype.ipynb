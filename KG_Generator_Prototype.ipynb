{
 "cells": [
  {
   "cell_type": "markdown",
   "id": "95894b68",
   "metadata": {},
   "source": [
    "# KG Generator Tool"
   ]
  },
  {
   "cell_type": "markdown",
   "id": "e6cd5418",
   "metadata": {},
   "source": [
    "## Let's get started by importing relevant libraries"
   ]
  },
  {
   "cell_type": "code",
   "execution_count": 1,
   "id": "b41fb83b",
   "metadata": {},
   "outputs": [
    {
     "name": "stderr",
     "output_type": "stream",
     "text": [
      "C:\\Users\\reagon.karki\\Anaconda3\\envs\\bycovid_new\\lib\\site-packages\\pybel\\struct\\operations.py:8: TqdmExperimentalWarning: Using `tqdm.autonotebook.tqdm` in notebook mode. Use `tqdm.tqdm` instead to force console mode (e.g. in jupyter console)\n",
      "  from tqdm.autonotebook import tqdm\n"
     ]
    }
   ],
   "source": [
    "import requests\n",
    "import json\n",
    "import pandas as pd\n",
    "import matplotlib.pyplot as plt\n",
    "\n",
    "import pybel\n",
    "from pybel.io.jupyter import to_jupyter\n",
    "from utils import *\n",
    "from kg_gen import *\n",
    "import matplotlib.pyplot as plt\n",
    "\n",
    "from IPython.display import Markdown, display"
   ]
  },
  {
   "cell_type": "markdown",
   "id": "7556a3fb",
   "metadata": {},
   "source": [
    "## Please execute following cells"
   ]
  },
  {
   "cell_type": "code",
   "execution_count": null,
   "id": "2036d66a",
   "metadata": {
    "scrolled": false
   },
   "outputs": [
    {
     "data": {
      "text/markdown": [
       "<span style='color:blue'>**Welcome to the KG Generator tool. In the following steps, we will need a couple of inputs from your side.**</span>"
      ],
      "text/plain": [
       "<IPython.core.display.Markdown object>"
      ]
     },
     "metadata": {},
     "output_type": "display_data"
    },
    {
     "name": "stdout",
     "output_type": "stream",
     "text": [
      "Please enter the disease you are interested in and we will try to find the best matches for you.\n",
      "\n",
      "Input: kjdfkjd\n",
      "\n",
      "\n",
      "Ooops!! Did you have a typo in the name. Please try again!\n"
     ]
    },
    {
     "data": {
      "text/markdown": [
       "<span style='color:blue'>**Welcome to the KG Generator tool. In the following steps, we will need a couple of inputs from your side.**</span>"
      ],
      "text/plain": [
       "<IPython.core.display.Markdown object>"
      ]
     },
     "metadata": {},
     "output_type": "display_data"
    },
    {
     "name": "stdout",
     "output_type": "stream",
     "text": [
      "Please enter the disease you are interested in and we will try to find the best matches for you.\n",
      "\n",
      "Input: als\n",
      "\n",
      "\n",
      "    index             id                                               name\n",
      "0       0  MONDO_0004976                      amyotrophic lateral sclerosis\n",
      "1       1  MONDO_0008763                                   Alstrom syndrome\n",
      "2       2  MONDO_0008780     amyotrophic lateral sclerosis type 2, juvenile\n",
      "3       3  MONDO_0017161  frontotemporal dementia with motor neuron disease\n",
      "4       4  MONDO_0011223               amyotrophic lateral sclerosis type 4\n",
      "5       5  MONDO_0013891              amyotrophic lateral sclerosis type 18\n",
      "6       6  MONDO_0010459              amyotrophic lateral sclerosis type 15\n",
      "7       7  MONDO_0007105  frontotemporal dementia and/or amyotrophic lat...\n",
      "8       8    EFO_0004627                                  IGF-1 measurement\n",
      "9       9  MONDO_0018770                                     Jeune syndrome\n",
      "10     10    EFO_1001972               undifferentiated pleomorphic sarcoma\n",
      "11     11    EFO_0003782                               motor neuron disease\n",
      "12     12    EFO_0005854                                  allergic rhinitis\n",
      "13     13    EFO_0009488                                spinal cord disease\n",
      "14     14  MONDO_0003182                             anterior horn disorder\n",
      "15     15  MONDO_0012198                                      PCWH syndrome\n",
      "16     16  MONDO_0017091                           bilateral polymicrogyria\n",
      "17     17  MONDO_0003916                                      overnutrition\n",
      "18     18    EFO_0001073                                            obesity\n",
      "19     19    EFO_0001356             familial amyotrophic lateral sclerosis\n",
      "\n",
      "\n"
     ]
    },
    {
     "data": {
      "text/markdown": [
       "<span style='color:None'>**Here you go! Hopefully your disease of interest is in the list. If so, let's get started.**</span>"
      ],
      "text/plain": [
       "<IPython.core.display.Markdown object>"
      ]
     },
     "metadata": {},
     "output_type": "display_data"
    },
    {
     "name": "stdout",
     "output_type": "stream",
     "text": [
      "    index             id                                               name\n",
      "0       0  MONDO_0004976                      amyotrophic lateral sclerosis\n",
      "1       1  MONDO_0008763                                   Alstrom syndrome\n",
      "2       2  MONDO_0008780     amyotrophic lateral sclerosis type 2, juvenile\n",
      "3       3  MONDO_0017161  frontotemporal dementia with motor neuron disease\n",
      "4       4  MONDO_0011223               amyotrophic lateral sclerosis type 4\n",
      "5       5  MONDO_0013891              amyotrophic lateral sclerosis type 18\n",
      "6       6  MONDO_0010459              amyotrophic lateral sclerosis type 15\n",
      "7       7  MONDO_0007105  frontotemporal dementia and/or amyotrophic lat...\n",
      "8       8    EFO_0004627                                  IGF-1 measurement\n",
      "9       9  MONDO_0018770                                     Jeune syndrome\n",
      "10     10    EFO_1001972               undifferentiated pleomorphic sarcoma\n",
      "11     11    EFO_0003782                               motor neuron disease\n",
      "12     12    EFO_0005854                                  allergic rhinitis\n",
      "13     13    EFO_0009488                                spinal cord disease\n",
      "14     14  MONDO_0003182                             anterior horn disorder\n",
      "15     15  MONDO_0012198                                      PCWH syndrome\n",
      "16     16  MONDO_0017091                           bilateral polymicrogyria\n",
      "17     17  MONDO_0003916                                      overnutrition\n",
      "18     18    EFO_0001073                                            obesity\n",
      "19     19    EFO_0001356             familial amyotrophic lateral sclerosis\n",
      "Empty DataFrame\n",
      "Columns: []\n",
      "Index: []\n"
     ]
    }
   ],
   "source": [
    "kg = createKG()"
   ]
  },
  {
   "cell_type": "code",
   "execution_count": null,
   "id": "34868d22",
   "metadata": {},
   "outputs": [],
   "source": []
  },
  {
   "cell_type": "code",
   "execution_count": null,
   "id": "8b36d40f",
   "metadata": {
    "scrolled": false
   },
   "outputs": [],
   "source": [
    "kg.summarize"
   ]
  },
  {
   "cell_type": "code",
   "execution_count": null,
   "id": "eb82d4c6",
   "metadata": {},
   "outputs": [],
   "source": [
    "to_jupyter(kg)"
   ]
  },
  {
   "cell_type": "code",
   "execution_count": null,
   "id": "46802c05",
   "metadata": {},
   "outputs": [],
   "source": [
    "KG_namespace_plot(kg)"
   ]
  },
  {
   "cell_type": "code",
   "execution_count": null,
   "id": "2f8a79bd",
   "metadata": {},
   "outputs": [],
   "source": []
  }
 ],
 "metadata": {
  "kernelspec": {
   "display_name": "Python 3 (ipykernel)",
   "language": "python",
   "name": "python3"
  },
  "language_info": {
   "codemirror_mode": {
    "name": "ipython",
    "version": 3
   },
   "file_extension": ".py",
   "mimetype": "text/x-python",
   "name": "python",
   "nbconvert_exporter": "python",
   "pygments_lexer": "ipython3",
   "version": "3.10.4"
  }
 },
 "nbformat": 4,
 "nbformat_minor": 5
}
