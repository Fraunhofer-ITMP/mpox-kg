{
 "cells": [
  {
   "cell_type": "markdown",
   "id": "26a19a5e",
   "metadata": {},
   "source": [
    "# <center> Codebase for creating Monkeypox Knowledge Graph"
   ]
  },
  {
   "cell_type": "markdown",
   "id": "a159b0a8",
   "metadata": {},
   "source": [
    "### If you are using mybinder, from the list of headers above (File, Edit, View...), go to Help -> Launch Classic Notebook for optimal experience. Read more at https://github.com/Fraunhofer-ITMP/mpox-kg/blob/main/README.md"
   ]
  },
  {
   "cell_type": "markdown",
   "id": "3b7ef4b1",
   "metadata": {},
   "source": [
    "### System details"
   ]
  },
  {
   "cell_type": "code",
   "execution_count": null,
   "id": "333f4d65",
   "metadata": {},
   "outputs": [],
   "source": [
    "import getpass\n",
    "import sys\n",
    "import time\n",
    "import json"
   ]
  },
  {
   "cell_type": "code",
   "execution_count": null,
   "id": "d2be01dd",
   "metadata": {},
   "outputs": [],
   "source": [
    "getpass.getuser()"
   ]
  },
  {
   "cell_type": "code",
   "execution_count": null,
   "id": "c0b7f442",
   "metadata": {},
   "outputs": [],
   "source": [
    "sys.version"
   ]
  },
  {
   "cell_type": "code",
   "execution_count": null,
   "id": "78a0d4c8",
   "metadata": {},
   "outputs": [],
   "source": [
    "time.asctime()"
   ]
  },
  {
   "cell_type": "markdown",
   "id": "00f91898",
   "metadata": {},
   "source": [
    "### Importing packages"
   ]
  },
  {
   "cell_type": "code",
   "execution_count": null,
   "id": "91811c60",
   "metadata": {},
   "outputs": [],
   "source": [
    "#pip install -r requirements.txt"
   ]
  },
  {
   "cell_type": "code",
   "execution_count": null,
   "id": "8c141672",
   "metadata": {},
   "outputs": [],
   "source": [
    "import pybel\n",
    "from pybel.io.jupyter import to_jupyter\n",
    "from utils import *\n",
    "import matplotlib.pyplot as plt"
   ]
  },
  {
   "cell_type": "markdown",
   "id": "6f338925",
   "metadata": {},
   "source": [
    "# The following codes have to be executed line by line to generate the final KG. Alternatively, you can use the cached file of the final KG. Press Ctrl+F and type 'Final KG'"
   ]
  },
  {
   "cell_type": "markdown",
   "id": "d30c1b4b",
   "metadata": {},
   "source": [
    "# Drugs against monkeypox \n",
    "\n",
    "This data was collected from ChEMBL database"
   ]
  },
  {
   "cell_type": "code",
   "execution_count": null,
   "id": "7e1bdfe6",
   "metadata": {},
   "outputs": [],
   "source": [
    "mpox_chembl = pd.read_csv(\n",
    "    'data/chembl/chembl_mpox_actives_new.csv',\n",
    "    sep=';',\n",
    "    usecols=[\n",
    "        'Molecule ChEMBL ID',\n",
    "        'pChEMBL Value'\n",
    "    ])\n",
    "mpox_chembl= mpox_chembl[mpox_chembl['pChEMBL Value'] >= 6]\n",
    "mpox_chembl = set(mpox_chembl['Molecule ChEMBL ID'])"
   ]
  },
  {
   "cell_type": "code",
   "execution_count": null,
   "id": "b57bb78f",
   "metadata": {},
   "outputs": [],
   "source": [
    "mpox_chembl"
   ]
  },
  {
   "cell_type": "markdown",
   "id": "bd8476c4",
   "metadata": {},
   "source": [
    "# Extracting data from PubChem\n",
    "\n",
    "Following line of codes extract information from [PubChem](https://pubchem.ncbi.nlm.nih.gov/taxonomy/10244). The file can be donwloaded from the \"Chemicals and Bioactivities\" section. [Tabel 3.1](https://pubchem.ncbi.nlm.nih.gov/taxonomy/10244#section=Tested-Compounds&fullscreen=true)"
   ]
  },
  {
   "cell_type": "code",
   "execution_count": null,
   "id": "6246d121",
   "metadata": {},
   "outputs": [],
   "source": [
    "mpox_pchem = pd.read_csv(\n",
    "    'data/pubchem/TaxID_10244_bioactivity.csv'\n",
    ")\n",
    "mpox_pchem = mpox_pchem['cid']\n",
    "mpox_pchem = set(mpox_pchem)"
   ]
  },
  {
   "cell_type": "code",
   "execution_count": null,
   "id": "c52a2e08",
   "metadata": {},
   "outputs": [],
   "source": [
    "pchem2chembl_list = cid2chembl(mpox_pchem)"
   ]
  },
  {
   "cell_type": "markdown",
   "id": "1cfec812",
   "metadata": {},
   "source": [
    "#### Checking overlap between the ChEMBL and Pubchem information"
   ]
  },
  {
   "cell_type": "code",
   "execution_count": null,
   "id": "ce595d49",
   "metadata": {},
   "outputs": [],
   "source": [
    "mpox_chembl.update(set(pchem2chembl_list))\n",
    "len(mpox_chembl)"
   ]
  },
  {
   "cell_type": "code",
   "execution_count": null,
   "id": "75f7aeff",
   "metadata": {},
   "outputs": [],
   "source": [
    "mpox_chembl"
   ]
  },
  {
   "cell_type": "markdown",
   "id": "c384b878",
   "metadata": {},
   "source": [
    "### Get proteins, mech of action, disease, and activity data from ChEMBL"
   ]
  },
  {
   "cell_type": "code",
   "execution_count": null,
   "id": "6d509845",
   "metadata": {},
   "outputs": [],
   "source": [
    "chembl2mech = RetMech(list(mpox_chembl))"
   ]
  },
  {
   "cell_type": "code",
   "execution_count": null,
   "id": "e1321326",
   "metadata": {},
   "outputs": [],
   "source": [
    "chembl2mech"
   ]
  },
  {
   "cell_type": "code",
   "execution_count": null,
   "id": "47177306",
   "metadata": {},
   "outputs": [],
   "source": [
    "chembl2dis = RetDrugInd(mpox_chembl)\n"
   ]
  },
  {
   "cell_type": "code",
   "execution_count": null,
   "id": "29f6ccb8",
   "metadata": {
    "scrolled": true
   },
   "outputs": [],
   "source": [
    "chembl2dis"
   ]
  },
  {
   "cell_type": "code",
   "execution_count": null,
   "id": "95ae8a74",
   "metadata": {},
   "outputs": [],
   "source": [
    "with open(\"data/export/test.json\", \"w\") as outfile:\n",
    "    json.dump(chembl2dis, outfile, indent=4, sort_keys=False)"
   ]
  },
  {
   "cell_type": "code",
   "execution_count": null,
   "id": "2bea413b",
   "metadata": {},
   "outputs": [],
   "source": [
    "chembl2act = RetAct(mpox_chembl)"
   ]
  },
  {
   "cell_type": "code",
   "execution_count": null,
   "id": "7a6df599",
   "metadata": {
    "scrolled": true
   },
   "outputs": [],
   "source": [
    "chembl2act"
   ]
  },
  {
   "cell_type": "code",
   "execution_count": null,
   "id": "760230b5",
   "metadata": {},
   "outputs": [],
   "source": [
    "prtn_as_chembl = Ret_chembl_protein(chembl2act) + Ret_chembl_protein(chembl2mech)\n",
    "prtn_as_chembl = set(prtn_as_chembl)\n",
    "prtn_as_chembl = list(prtn_as_chembl)\n",
    "len(prtn_as_chembl)"
   ]
  },
  {
   "cell_type": "code",
   "execution_count": null,
   "id": "73cb4e9e",
   "metadata": {},
   "outputs": [],
   "source": [
    "chembl2uprot = chembl2uniprot(prtn_as_chembl)"
   ]
  },
  {
   "cell_type": "markdown",
   "id": "d2090500",
   "metadata": {},
   "source": [
    "### Updating ChEMBL protein with gene symbols"
   ]
  },
  {
   "cell_type": "code",
   "execution_count": null,
   "id": "992bc3b9",
   "metadata": {},
   "outputs": [],
   "source": [
    "chembl2act = chembl2gene2path(chembl2uprot, chembl2act)\n",
    "chembl2mech = chembl2gene2path(chembl2uprot, chembl2mech)"
   ]
  },
  {
   "cell_type": "markdown",
   "id": "f290d3ca",
   "metadata": {},
   "source": [
    "### Adding information to KG"
   ]
  },
  {
   "cell_type": "code",
   "execution_count": null,
   "id": "2bd41ffc",
   "metadata": {},
   "outputs": [],
   "source": [
    "mpox_graph = pybel.BELGraph(name='Monkeypox Graph', version=\"0.0.1\")"
   ]
  },
  {
   "cell_type": "code",
   "execution_count": null,
   "id": "3b1cfaa4",
   "metadata": {
    "scrolled": false
   },
   "outputs": [],
   "source": [
    "mpox_graph = chem2moa_rel(chembl2mech, 'HGNC', mpox_graph)\n",
    "mpox_graph = chem2dis_rel(chembl2dis, mpox_graph)\n",
    "mpox_graph = chem2act_rel(chembl2act, 'HGNC', mpox_graph)\n",
    "mpox_graph = gene2path_rel(chembl2uprot, 'HGNC', mpox_graph)"
   ]
  },
  {
   "cell_type": "markdown",
   "id": "8546edc2",
   "metadata": {},
   "source": [
    "### Saving cache of KG here"
   ]
  },
  {
   "cell_type": "code",
   "execution_count": null,
   "id": "5a73cd11",
   "metadata": {},
   "outputs": [],
   "source": [
    "pybel.dump(mpox_graph, 'data/graph/monkeypox_basic.bel.pickle')"
   ]
  },
  {
   "cell_type": "code",
   "execution_count": null,
   "id": "ee64f139",
   "metadata": {},
   "outputs": [],
   "source": [
    "infile=  open('data/graph/monkeypox_basic.bel.pickle','rb')\n",
    "mpox_graph= pickle.load(infile)\n",
    "infile.close()"
   ]
  },
  {
   "cell_type": "code",
   "execution_count": null,
   "id": "273b9161",
   "metadata": {
    "scrolled": false
   },
   "outputs": [],
   "source": [
    "to_jupyter(mpox_graph)"
   ]
  },
  {
   "cell_type": "markdown",
   "id": "a04c5c0a",
   "metadata": {},
   "source": [
    "### Extracting data from UniProt\n",
    "\n",
    "The data was collected from the [UniProt website](https://www.uniprot.org/uniprotkb?dir=ascend&facets=reviewed:true&query=monkeypox&sort=organism_name). To ensure that the proteins are curated, we restrict the filtering to \"Reviewed Swiss-Prot\".\n",
    "\n",
    "Additionally, it can be seen that the above filter results in proteins from other viruses as well. We manually selected the 11 monkeypox virus proteins and downloaded the data for the same."
   ]
  },
  {
   "cell_type": "code",
   "execution_count": null,
   "id": "0472efdc",
   "metadata": {},
   "outputs": [],
   "source": [
    "#Fetch all proteins from the graph\n",
    "chemblProt = Ret_uprotid(chembl2uprot)\n",
    "chemblProt "
   ]
  },
  {
   "cell_type": "code",
   "execution_count": null,
   "id": "e1640ef3",
   "metadata": {},
   "outputs": [],
   "source": [
    "#chemblProt = ['P20839', 'P23526', 'O43865', 'Q8JXU8', 'P08684']"
   ]
  },
  {
   "cell_type": "code",
   "execution_count": null,
   "id": "7388ac2f",
   "metadata": {},
   "outputs": [],
   "source": [
    "# mpox_prot_df = pd.read_excel(\n",
    "#     'data/uniprot/uniprot-taxonomy Monkeypox+virus+[10244] -filtered-reviewed yes.xlsx',\n",
    "# )\n",
    "\n",
    "#updated protein file from uniprot. H\n",
    "mpox_prot_df = pd.read_excel(\n",
    "    'data/uniprot/uniprotkb_taxonomy_id_10244_AND_reviewe_2023_08_18.xlsx',\n",
    ")\n",
    "\n",
    "mpox_prot = list(mpox_prot_df['Entry'])\n",
    "mpox_prot"
   ]
  },
  {
   "cell_type": "markdown",
   "id": "94e19f34",
   "metadata": {},
   "source": [
    "# Extracting data from DISEASES database from JensenLab\n",
    "\n",
    "The data for monkeypox virus can be found [here](https://diseases.jensenlab.org/Entity?order=textmining,knowledge,experiments&textmining=10&knowledge=10&experiments=10&type1=-26&type2=9606&id1=DOID:3292). We downloaded information about the genes associated with this virus by downloading the \"Text mining\" filtered data only ([availabe here](https://diseases.jensenlab.org/Downloads))."
   ]
  },
  {
   "cell_type": "code",
   "execution_count": null,
   "id": "c7fac4b6",
   "metadata": {},
   "outputs": [],
   "source": [
    "colnames = 'Gene HGNC doid disease z-score confidence url'.split(' ')\n",
    "mpox_human = pd.read_csv('data/jensen/human_disease_textmining_filtered_aug23.tsv',\n",
    "                         sep='\\t',names=colnames,header=None)\n",
    "mpox_human = mpox_human.loc[mpox_human['doid'] == ('DOID:3292')]\n",
    "mpox_human = mpox_human.reset_index(drop=True)\n",
    "mpox_human.head(5)\n"
   ]
  },
  {
   "cell_type": "code",
   "execution_count": null,
   "id": "5e1bfc36",
   "metadata": {},
   "outputs": [],
   "source": [
    "mpox_human.to_csv('data/jensen/mpox_human.csv')"
   ]
  },
  {
   "cell_type": "markdown",
   "id": "19e0353f",
   "metadata": {},
   "source": [
    "# Conversion of DISEASES genes to UniProt ids using UniProt DB"
   ]
  },
  {
   "cell_type": "code",
   "execution_count": null,
   "id": "17857bc9",
   "metadata": {},
   "outputs": [],
   "source": [
    "mpox_human_uprot = pd.read_csv('data/jensen/jenslab_aug23.tsv',sep='\\t')\n",
    "mpox_human_uprot.head(5)"
   ]
  },
  {
   "cell_type": "code",
   "execution_count": null,
   "id": "7cc3d5af",
   "metadata": {},
   "outputs": [],
   "source": [
    "mpox_human_uprot"
   ]
  },
  {
   "cell_type": "code",
   "execution_count": null,
   "id": "e6bb6787",
   "metadata": {},
   "outputs": [],
   "source": [
    "mpox_genes = list(mpox_human_uprot['Entry'])\n",
    "len(mpox_genes)"
   ]
  },
  {
   "cell_type": "code",
   "execution_count": null,
   "id": "ab671397",
   "metadata": {},
   "outputs": [],
   "source": [
    "#combining human genes from KG and DISEASES\n",
    "uprots = mpox_genes+chemblProt"
   ]
  },
  {
   "cell_type": "markdown",
   "id": "0cb1df16",
   "metadata": {},
   "source": [
    "# Fetch info about biological processes, molecular functions and diseases from UniProt"
   ]
  },
  {
   "cell_type": "code",
   "execution_count": null,
   "id": "4e754a4a",
   "metadata": {},
   "outputs": [],
   "source": [
    "uprots_ext = ExtractFromUniProt(uprots)"
   ]
  },
  {
   "cell_type": "code",
   "execution_count": null,
   "id": "c6f7d424",
   "metadata": {},
   "outputs": [],
   "source": [
    "mpox_prot_ext = ExtractFromUniProt(mpox_prot)"
   ]
  },
  {
   "cell_type": "code",
   "execution_count": null,
   "id": "090ac595",
   "metadata": {},
   "outputs": [],
   "source": [
    " \n",
    "mpox_graph = uniprot_rel(mpox_prot_ext, 'MPXV', mpox_graph)"
   ]
  },
  {
   "cell_type": "code",
   "execution_count": null,
   "id": "3a2b9dbe",
   "metadata": {
    "scrolled": true
   },
   "outputs": [],
   "source": [
    "to_jupyter(mpox_graph)"
   ]
  },
  {
   "cell_type": "markdown",
   "id": "ff9fd124",
   "metadata": {},
   "source": [
    "### Saving cache of KG here"
   ]
  },
  {
   "cell_type": "code",
   "execution_count": null,
   "id": "868d753e",
   "metadata": {},
   "outputs": [],
   "source": [
    "pybel.dump(mpox_graph,'data/graph/monkeypox_gene_enriched.bel.pickle')"
   ]
  },
  {
   "cell_type": "markdown",
   "id": "1c872a0d",
   "metadata": {},
   "source": [
    "### Chemicals targetting proteins present in graph from ChEMBL and PubChem"
   ]
  },
  {
   "cell_type": "code",
   "execution_count": null,
   "id": "7fb99090",
   "metadata": {},
   "outputs": [],
   "source": [
    "# Since this run can be time-consuming, we store a cache file and re-use that.\n",
    "# To update the information, delete the cache file\n",
    "#Please scroll down to \n",
    "mpox_prot2chem = target_list_to_chemical(uprots)"
   ]
  },
  {
   "cell_type": "code",
   "execution_count": null,
   "id": "8c8ea841",
   "metadata": {},
   "outputs": [],
   "source": [
    "# filename = ('data/chembl/prot2chembl.pkl')\n",
    "# outfile = open(filename,'wb')\n",
    "# pickle.dump(mpox_prot2chem,outfile)"
   ]
  },
  {
   "cell_type": "code",
   "execution_count": null,
   "id": "baab1ae7",
   "metadata": {},
   "outputs": [],
   "source": [
    "#combine all proteins\n",
    "uprots_list = uprots+mpox_prot\n",
    "#uprots_list = uprots_list[::-1]\n"
   ]
  },
  {
   "cell_type": "code",
   "execution_count": null,
   "id": "b74887a1",
   "metadata": {},
   "outputs": [],
   "source": [
    "uprot2chem = target_list_to_chemical(uprots_list)"
   ]
  },
  {
   "cell_type": "code",
   "execution_count": null,
   "id": "12843e0f",
   "metadata": {},
   "outputs": [],
   "source": [
    "# filename = ('data/chembl/uprot2chembl.pkl')\n",
    "# outfile = open(filename,'wb')\n",
    "# pickle.dump(uprot2chem,outfile)"
   ]
  },
  {
   "cell_type": "code",
   "execution_count": null,
   "id": "fa50a0d8",
   "metadata": {},
   "outputs": [],
   "source": [
    "uprot2chem.to_csv(f'data/chemical_protein_data_Aug23.tsv', sep='\\t', index=False)"
   ]
  },
  {
   "cell_type": "markdown",
   "id": "55bac4f9",
   "metadata": {},
   "source": [
    "# Cached file for Chemicals targetting proteins present in graph from ChEMBL and PubChem¶"
   ]
  },
  {
   "cell_type": "code",
   "execution_count": null,
   "id": "59c68fa6",
   "metadata": {},
   "outputs": [],
   "source": [
    "infile = open('data/chembl//uprot2chembl','rb')\n",
    "uprot2chem = pickle.load(infile)\n",
    "infile.close()"
   ]
  },
  {
   "cell_type": "markdown",
   "id": "8ecc6522",
   "metadata": {},
   "source": [
    "### Filtering chemicals\n",
    "\n",
    "Here we filter out chemicals that are active and do not have a corresponding name (such chemicals will be still at the research level within ChEMBL)."
   ]
  },
  {
   "cell_type": "code",
   "execution_count": null,
   "id": "cd7a945c",
   "metadata": {},
   "outputs": [],
   "source": [
    "active = uprot2chem.loc[uprot2chem['activity'].str.contains('activator',na=False)]\n",
    "active = active.reset_index(drop=True)\n",
    "active = active[active['compound_name'] != '']\n",
    "active = active.reset_index(drop=True)"
   ]
  },
  {
   "cell_type": "code",
   "execution_count": null,
   "id": "8fd8a07d",
   "metadata": {},
   "outputs": [],
   "source": [
    "active"
   ]
  },
  {
   "cell_type": "code",
   "execution_count": null,
   "id": "eb73f671",
   "metadata": {},
   "outputs": [],
   "source": [
    "chem = active['chembl_id']"
   ]
  },
  {
   "cell_type": "markdown",
   "id": "5e5f9215",
   "metadata": {},
   "source": [
    "# Repeat steps of fetching proteins, mech of action, disease, and activity data from ChEMBL for new chemicals"
   ]
  },
  {
   "cell_type": "code",
   "execution_count": null,
   "id": "31bb0d77",
   "metadata": {},
   "outputs": [],
   "source": [
    "chem2dis = RetDrugInd(chem)"
   ]
  },
  {
   "cell_type": "code",
   "execution_count": null,
   "id": "1eae6f27",
   "metadata": {
    "scrolled": true
   },
   "outputs": [],
   "source": [
    "chem2mech = RetMech(chem)"
   ]
  },
  {
   "cell_type": "code",
   "execution_count": null,
   "id": "a481e91e",
   "metadata": {},
   "outputs": [],
   "source": [
    "chem2act = RetAct(chem)"
   ]
  },
  {
   "cell_type": "code",
   "execution_count": null,
   "id": "51fa67ad",
   "metadata": {},
   "outputs": [],
   "source": [
    "chembl2actmechdis = {}\n",
    "chembl2actmechdis['activity'] = chem2act\n",
    "chembl2actmechdis['mechanism'] = chem2mech\n",
    "chembl2actmechdis['disease']= chem2dis"
   ]
  },
  {
   "cell_type": "code",
   "execution_count": null,
   "id": "a052b005",
   "metadata": {},
   "outputs": [],
   "source": [
    "filename = 'data/chembl/chembl2actmechdis_aug23'\n",
    "outfile = open(filename,'wb')\n",
    "pickle.dump(chembl2actmechdis,outfile)"
   ]
  },
  {
   "cell_type": "code",
   "execution_count": null,
   "id": "1383a3aa",
   "metadata": {},
   "outputs": [],
   "source": [
    "infile = open('data/chembl/chembl2actmechdis_aug23','rb')\n",
    "chembl2actmechdis = pickle.load(infile)\n",
    "infile.close()"
   ]
  },
  {
   "cell_type": "code",
   "execution_count": null,
   "id": "2f4da688",
   "metadata": {},
   "outputs": [],
   "source": [
    "chem2act = chembl2actmechdis['activity']\n",
    "chem2mech = chembl2actmechdis['mechanism']\n",
    "chem2dis = chembl2actmechdis['disease']"
   ]
  },
  {
   "cell_type": "code",
   "execution_count": null,
   "id": "a74204d3",
   "metadata": {},
   "outputs": [],
   "source": [
    "chemid2 = Ret_chembl_protein(chem2act) + Ret_chembl_protein(chem2mech)\n"
   ]
  },
  {
   "cell_type": "code",
   "execution_count": null,
   "id": "4f5c77b3",
   "metadata": {},
   "outputs": [],
   "source": [
    "chem2uni = chembl2uniprot(chemid2)"
   ]
  },
  {
   "cell_type": "code",
   "execution_count": null,
   "id": "d585fac3",
   "metadata": {},
   "outputs": [],
   "source": [
    "chem2uni"
   ]
  },
  {
   "cell_type": "code",
   "execution_count": null,
   "id": "2d04e21d",
   "metadata": {},
   "outputs": [],
   "source": [
    "protList = Ret_uprotid(chem2uni)\n",
    "len(protList)"
   ]
  },
  {
   "cell_type": "code",
   "execution_count": null,
   "id": "131b541c",
   "metadata": {
    "scrolled": true
   },
   "outputs": [],
   "source": [
    "protList_ext = ExtractFromUniProt(protList)"
   ]
  },
  {
   "cell_type": "code",
   "execution_count": null,
   "id": "cde94c89",
   "metadata": {},
   "outputs": [],
   "source": [
    "filename = 'data/chembl/allprot_fromchembl_23'\n",
    "outfile = open(filename,'wb')\n",
    "pickle.dump(protList_ext,outfile)"
   ]
  },
  {
   "cell_type": "code",
   "execution_count": null,
   "id": "6a6f2a6f",
   "metadata": {},
   "outputs": [],
   "source": [
    "infile = open('data/chembl/allprot_fromchembl_23','rb')\n",
    "protList_ext = pickle.load(infile)\n",
    "infile.close()"
   ]
  },
  {
   "cell_type": "code",
   "execution_count": null,
   "id": "8275de1f",
   "metadata": {},
   "outputs": [],
   "source": [
    "#mpox_graph = pybel.BELGraph(name='Monkeypox Graph')"
   ]
  },
  {
   "cell_type": "code",
   "execution_count": null,
   "id": "45f58ac5",
   "metadata": {},
   "outputs": [],
   "source": [
    "protList_ext"
   ]
  },
  {
   "cell_type": "markdown",
   "id": "30948e7a",
   "metadata": {},
   "source": [
    "# Update KG with new nodes and relationships"
   ]
  },
  {
   "cell_type": "code",
   "execution_count": null,
   "id": "95598efb",
   "metadata": {},
   "outputs": [],
   "source": [
    " \n",
    "pchem_act_new= chembl2gene2path(chem2uni,chem2act)\n",
    "pchem_mech_new = chembl2gene2path(chem2uni,chem2mech)\n",
    "mpox_graph = chem2act_rel(pchem_act_new,'HGNC',mpox_graph)\n",
    "mpox_graph = chem2moa_rel(pchem_mech_new,'HGNC',mpox_graph)\n",
    "mpox_graph = chem2dis_rel(chem2dis,mpox_graph)\n",
    "mpox_graph = gene2path_rel(chem2uni,'HGNC',mpox_graph)\n",
    "#to_jupyter(mpox_graph)"
   ]
  },
  {
   "cell_type": "code",
   "execution_count": null,
   "id": "81885c5a",
   "metadata": {},
   "outputs": [],
   "source": [
    "# filename = 'data/export/Monkeypox_KG_aug23.pkl'\n",
    "# outfile = open(filename,'wb')\n",
    "# pickle.dump(mpox_graph,outfile)"
   ]
  },
  {
   "cell_type": "code",
   "execution_count": null,
   "id": "410646aa",
   "metadata": {},
   "outputs": [],
   "source": [
    "infile = open('data/export/Monkeypox_KG_aug23.pkl','rb')\n",
    "mpox_graph = pickle.load(infile)\n",
    "infile.close()"
   ]
  },
  {
   "cell_type": "markdown",
   "id": "63c0d7d2",
   "metadata": {},
   "source": [
    "### Annotating information from OpenTargets\n",
    "\n",
    "To reproduce this code, you will need to download the [drug side effect](http://ftp.ebi.ac.uk/pub/databases/opentargets/platform/22.06/output/etl/parquet/fda/significantAdverseDrugReactions/) data and [target data](http://ftp.ebi.ac.uk/pub/databases/opentargets/platform/22.06/output/etl/parquet/targets/) data files."
   ]
  },
  {
   "cell_type": "code",
   "execution_count": null,
   "id": "4d9f3304",
   "metadata": {},
   "outputs": [],
   "source": [
    "chemblid = getNodeList('ChEMBL',mpox_graph)"
   ]
  },
  {
   "cell_type": "code",
   "execution_count": null,
   "id": "9d071c3c",
   "metadata": {},
   "outputs": [],
   "source": [
    "mpox_graph = chembl2rxn_rel(chemblid,mpox_graph)"
   ]
  },
  {
   "cell_type": "markdown",
   "id": "500cce04",
   "metadata": {},
   "source": [
    "# Annotate proteins with ChEMBL URLs"
   ]
  },
  {
   "cell_type": "code",
   "execution_count": null,
   "id": "f739e9f6",
   "metadata": {},
   "outputs": [],
   "source": [
    "mpox_graph = chembl_annotation(mpox_graph)"
   ]
  },
  {
   "cell_type": "code",
   "execution_count": null,
   "id": "c21e3929",
   "metadata": {},
   "outputs": [],
   "source": [
    "# filename = 'data/export/Monkeypox_KG_aug23.pkl'\n",
    "# outfile = open(filename,'wb')\n",
    "# pickle.dump(mpox_graph,outfile)\n",
    "# outfile.close()"
   ]
  },
  {
   "cell_type": "markdown",
   "id": "1eba7c0a",
   "metadata": {},
   "source": [
    "# This is the final KG for monkeypox. Execute following cells to generate statistics and plots about the KG. To generate a small section of the KG, jump to cell 'Create sub-graph for Supplementary File Outline no. 3' and execute and execute next couple of cells"
   ]
  },
  {
   "cell_type": "code",
   "execution_count": null,
   "id": "c8f98ab8",
   "metadata": {},
   "outputs": [],
   "source": [
    "infile = open('data/export/Monkeypox_KG_aug23.pkl','rb')\n",
    "mpox_graph = pickle.load(infile)\n",
    "infile.close()"
   ]
  },
  {
   "cell_type": "code",
   "execution_count": null,
   "id": "164357a4",
   "metadata": {},
   "outputs": [],
   "source": [
    "mpox_graph.summarize"
   ]
  },
  {
   "cell_type": "code",
   "execution_count": null,
   "id": "3a31fb54",
   "metadata": {},
   "outputs": [],
   "source": [
    "mpox_graph.summarize"
   ]
  },
  {
   "cell_type": "markdown",
   "id": "07f5c08f",
   "metadata": {},
   "source": [
    "# Generation of plots for KG statistics"
   ]
  },
  {
   "cell_type": "markdown",
   "id": "d7326d7a",
   "metadata": {},
   "source": [
    "# Bar plots for node types"
   ]
  },
  {
   "cell_type": "code",
   "execution_count": null,
   "id": "3401d81e",
   "metadata": {},
   "outputs": [],
   "source": [
    "node_data = {'Node':['Pathology','BiologicalProcess','Abundance','Protein'],\n",
    "       'Number':[4220, 2356, 2181, 360]}\n",
    "node = pd.DataFrame(node_data)\n",
    "a = sns.barplot(x=\"Node\", y=\"Number\", data=node)\n",
    "a.set(xlabel='Node',ylabel='Number',title= 'KG nodes in numbers (Total=9117)')"
   ]
  },
  {
   "cell_type": "markdown",
   "id": "2f2df182",
   "metadata": {},
   "source": [
    "# Bar plots for namespace types"
   ]
  },
  {
   "cell_type": "code",
   "execution_count": null,
   "id": "b200742e",
   "metadata": {},
   "outputs": [],
   "source": [
    "nspace_data = {'Namespace':['ChEMBLAssay','ChEMBL','GOBP','GOMF','HGNC','MPXV','Disease','SideEffect','Reactome','MOA'],\n",
    "       'Number':[1732,449,846,568,360,10,905,3315,810,132]}\n",
    "nspace = pd.DataFrame(nspace_data)\n",
    "\n",
    "#a = sns.barplot(x=\"Number\", y=\"Namespace\", data=nspace_data)\n",
    "#a.set(xlabel='Number',ylabel='Namespace',title= 'KG Namespace in numbers')"
   ]
  },
  {
   "cell_type": "code",
   "execution_count": null,
   "id": "2eea839a",
   "metadata": {},
   "outputs": [],
   "source": [
    "plt.figure()\n",
    "\n",
    "a = sns.barplot(x=\"Number\", y=\"Namespace\", data=nspace_data)\n",
    "a.set(xlabel='Number',ylabel='Namespace',title= 'KG Namespace in numbers')\n",
    "\n",
    "plt.tight_layout()\n",
    "#plt.savefig('data/export/test2.png',dpi=600)\n",
    "plt.show()"
   ]
  },
  {
   "cell_type": "code",
   "execution_count": null,
   "id": "b2e0a3ec",
   "metadata": {},
   "outputs": [],
   "source": [
    "\n",
    "fig = a.get_figure()\n",
    "plt.tight_layout()\n",
    "plt.savefig('data/export/test.png',dpi=600)"
   ]
  },
  {
   "cell_type": "markdown",
   "id": "11ea0558",
   "metadata": {},
   "source": [
    "# Load file from Open Targets for info about 'druggability'"
   ]
  },
  {
   "cell_type": "code",
   "execution_count": null,
   "id": "c6fb5a8f",
   "metadata": {},
   "outputs": [],
   "source": [
    "infile = open('data/opentargets//targets.pkl','rb')\n",
    "targetability = pickle.load(infile)\n",
    "infile.close()"
   ]
  },
  {
   "cell_type": "code",
   "execution_count": null,
   "id": "2ef1846a",
   "metadata": {},
   "outputs": [],
   "source": [
    "#Fetch human proteins from KG\n",
    "protein = []\n",
    "for node in mpox_graph.nodes():\n",
    "    if isinstance(node,pybel.dsl.Protein):\n",
    "        if node.namespace == 'HGNC':\n",
    "            protein.append(node.name)\n",
    "            \n",
    "len(protein)"
   ]
  },
  {
   "cell_type": "code",
   "execution_count": null,
   "id": "f9c0a7ef",
   "metadata": {},
   "outputs": [],
   "source": [
    "targetability = targetability[targetability['approvedSymbol'].isin(protein)]\n",
    "targetability = targetability.reset_index(drop=True)"
   ]
  },
  {
   "cell_type": "code",
   "execution_count": null,
   "id": "a0bdc62d",
   "metadata": {},
   "outputs": [],
   "source": [
    "#targetability[targetability['approvedSymbol']=='C1R']\n",
    "targetability.dropna(subset=['tractability'],inplace=True)\n",
    "targetability = targetability.reset_index(drop=True)\n",
    "targetability.head(5)\n"
   ]
  },
  {
   "cell_type": "markdown",
   "id": "1732b2d4",
   "metadata": {},
   "source": [
    "# Create a file with 'druggability' label yes or no for human proteins"
   ]
  },
  {
   "cell_type": "code",
   "execution_count": null,
   "id": "60671f23",
   "metadata": {},
   "outputs": [],
   "source": [
    "gene = []\n",
    "flag = []\n",
    "i = 0\n",
    "#j = 0\n",
    "for i in range(len(targetability)):\n",
    "\n",
    "        \n",
    "    #if pd.isna(targetability['tractability'][i].any() != True): \n",
    "    if targetability['tractability'][i][7]['value'] == True:\n",
    "\n",
    "        gene.append(targetability['approvedSymbol'][i])\n",
    "        flag.append('Yes')\n",
    "        \n",
    "    else:\n",
    "        #print(targetability['approvedSymbol'][i])\n",
    "        gene.append(targetability['approvedSymbol'][i])\n",
    "        flag.append('No')\n",
    "\n",
    "        "
   ]
  },
  {
   "cell_type": "code",
   "execution_count": null,
   "id": "67d8f8fb",
   "metadata": {},
   "outputs": [],
   "source": [
    "druggability = pd.DataFrame()\n",
    "druggability['Gene'] = gene\n",
    "druggability['Druggable Family'] = flag\n",
    "druggability.to_csv('data/opentargets/druggability.csv',sep=',')"
   ]
  },
  {
   "cell_type": "code",
   "execution_count": null,
   "id": "01951eb7",
   "metadata": {},
   "outputs": [],
   "source": [
    "druggability"
   ]
  },
  {
   "cell_type": "markdown",
   "id": "00d83358",
   "metadata": {},
   "source": [
    "# Create sub-graph for Supplementary File Outline no. 3"
   ]
  },
  {
   "cell_type": "code",
   "execution_count": null,
   "id": "5be2a659",
   "metadata": {},
   "outputs": [],
   "source": [
    "def filter_graph(mainGraph, vprotList):\n",
    "    nsp_list = []\n",
    "    chem_list = []\n",
    "    for u, v, data in mainGraph.edges(data=True):\n",
    "        if u.name in vprotList or v.name in vprotList:\n",
    "            #print(u.name)\n",
    "            nsp_list.append(u)\n",
    "            #print(u)\n",
    "            #print(v.name)\n",
    "            nsp_list.append(v)\n",
    "\n",
    "    nsp_graph = mainGraph.subgraph(nsp_list)\n",
    "    #nsp_graph = pybel.struct.mutation.induction_expansion.get_subgraph_by_second_neighbors(mpox_graph, nsp_list, filter_pathologies=False)\n",
    "    return(nsp_graph)\n"
   ]
  },
  {
   "cell_type": "code",
   "execution_count": null,
   "id": "26745d79",
   "metadata": {},
   "outputs": [],
   "source": [
    "query = 'p28 TK B4R Q8V4Y0 MKRN3 MKRN4P MKRN1 MKRN2 RNF8 TK1 SLFN12 SLFN12L CA3 CA13 CA5A CA1 CA2'.split(' ')\n",
    "#query = ['Virus Diseases','Smallpox']\n",
    "#query = 'NS5B CYP3A4 IMPDH1'.split(' ')"
   ]
  },
  {
   "cell_type": "code",
   "execution_count": null,
   "id": "05367a6c",
   "metadata": {},
   "outputs": [],
   "source": [
    "query_graph = filter_graph(mpox_graph,query)"
   ]
  },
  {
   "cell_type": "code",
   "execution_count": null,
   "id": "427261a1",
   "metadata": {},
   "outputs": [],
   "source": [
    "to_jupyter(query_graph)"
   ]
  },
  {
   "cell_type": "markdown",
   "id": "54a70af5",
   "metadata": {},
   "source": [
    "# Export final KG to other standard formats"
   ]
  },
  {
   "cell_type": "code",
   "execution_count": null,
   "id": "3500bd55",
   "metadata": {},
   "outputs": [],
   "source": [
    "#to cytoscape compatible graphml \n",
    "pybel.to_graphml(mpox_graph,'data/export//Monkeypox_KG_jan15.graphml')\n",
    "\n",
    "#to regular BEL format\n",
    "pybel.dump(mpox_graph,'data/export//Monkeypox_KG_jan15.bel')\n",
    "\n",
    "#to neo4j\n",
    "pybel.to_csv(mpox_graph,'data/export//Monkeypox_KG_jan15.csv')\n",
    "\n",
    "#to sif\n",
    "pybel.to_sif(mpox_graph,'data/export//Monkeypox_KG_jan15.sif')\n",
    "\n",
    "#to xml\n",
    "\n",
    "#pybel.to"
   ]
  },
  {
   "cell_type": "markdown",
   "id": "6b5cc213",
   "metadata": {},
   "source": [
    "# Exporting graph to Neo4J"
   ]
  },
  {
   "cell_type": "code",
   "execution_count": null,
   "id": "b3b45b76",
   "metadata": {},
   "outputs": [],
   "source": [
    "## to Neo4j\n",
    "# Exporting graph to Neo4J\n",
    "import py2neo\n",
    "node_map = {}\n",
    "\n",
    "# NEO4J_USER = 'yojana'\n",
    "# NEO4J_PASS = 'abc'\n",
    "\n",
    "#neo_connection = py2neo.Graph('bolt://localhost:7687', auth=('neo4j', 'itmp'),name='mpoxkg')\n",
    "neo_connection = py2neo.Graph('neo4j+s://a0760dff.databases.neo4j.io', auth=('fraunhofer', 'monkeypox-2022'))\n",
    "#neo_connection.delete_all()\n",
    "tx = neo_connection.begin()\n",
    "\n",
    "nodes = list(mpox_graph)\n",
    "\n",
    "dbio = nx.get_node_attributes(mpox_graph,'3Dbio')\n",
    "uprot = nx.get_node_attributes(mpox_graph,'UniProt')\n",
    "chembl = nx.get_node_attributes(mpox_graph,'ChEMBL')\n",
    "\n",
    "for node in tqdm(nodes, desc=\"nodes\"):\n",
    "    attrs = {\"namespace\": node.namespace}\n",
    "\n",
    "    if node.name and node.identifier:\n",
    "        attrs[\"name\"] = node.name\n",
    "        attrs[\"identifier\"] = node.identifier\n",
    "    elif node.identifier and not node.name:\n",
    "        attrs[\"name\"] = node.identifier\n",
    "    elif node.name and not node.identifier:\n",
    "        attrs[\"name\"] = node.name\n",
    "    \n",
    "    if node in dbio:\n",
    "        attrs['3Dbio'] = dbio[node]\n",
    "        \n",
    "    if node in uprot:\n",
    "        attrs['UniProt'] = uprot[node]\n",
    "        \n",
    "    if node in chembl:\n",
    "        attrs['ChEMBL'] = chembl[node]\n",
    "\n",
    "    node_map[node] = py2neo.Node(node.function, **attrs)\n",
    "\n",
    "    tx.create(node_map[node])\n",
    "\n",
    "edges = mpox_graph.edges(keys=True, data=True)\n",
    "\n",
    "for u, v, key, node in tqdm(edges, desc=\"edges\"):\n",
    "    rel_type = node['relation']\n",
    "\n",
    "    d = node.copy()\n",
    "    del d['relation']\n",
    "\n",
    "    attrs = {}\n",
    "\n",
    "    annotations = d.pop('annotations', None)\n",
    "    if annotations:\n",
    "        for annotation, values in annotations.items():\n",
    "            attrs[annotation] = list(values)\n",
    "\n",
    "    citation = d.pop('citation', None)\n",
    "    if citation:\n",
    "        attrs['citation'] = citation.curie\n",
    "\n",
    "    if 'evidence' in d:\n",
    "        attrs['evidence'] = d['evidence']\n",
    "\n",
    "    rel = py2neo.Relationship(node_map[u], rel_type, node_map[v], key=key, **attrs)\n",
    "    tx.create(rel)\n",
    "    \n",
    "tx.commit()"
   ]
  },
  {
   "cell_type": "code",
   "execution_count": null,
   "id": "3e0c8a13",
   "metadata": {},
   "outputs": [],
   "source": [
    "###new"
   ]
  },
  {
   "cell_type": "code",
   "execution_count": null,
   "id": "62a5f75d",
   "metadata": {},
   "outputs": [],
   "source": [
    "#Fetch human/viral proteins from KG\n",
    "#use HGNC or MPXV\n",
    "protein = []\n",
    "for node in mpox_graph.nodes():\n",
    "    if isinstance(node,pybel.dsl.Protein):\n",
    "        if node.namespace == 'MPXV':\n",
    "            protein.append(node.name)\n",
    "            \n",
    "len(protein)"
   ]
  },
  {
   "cell_type": "code",
   "execution_count": null,
   "id": "26475520",
   "metadata": {},
   "outputs": [],
   "source": [
    "protein"
   ]
  },
  {
   "cell_type": "markdown",
   "id": "a345c450",
   "metadata": {},
   "source": [
    "# Implementation for Results section in manuscript"
   ]
  },
  {
   "cell_type": "markdown",
   "id": "a8f2ebc4",
   "metadata": {},
   "source": [
    "# Get list of drugs that are used to treat \"Virus Diseases\""
   ]
  },
  {
   "cell_type": "code",
   "execution_count": null,
   "id": "a22e3230",
   "metadata": {},
   "outputs": [],
   "source": [
    "query = ['Virus Diseases','Smallpox']"
   ]
  },
  {
   "cell_type": "code",
   "execution_count": null,
   "id": "108f8097",
   "metadata": {},
   "outputs": [],
   "source": [
    "viral_drugs_kg = filter_graph(mpox_graph,query)\n",
    "to_jupyter(viral_drugs_kg)"
   ]
  },
  {
   "cell_type": "code",
   "execution_count": null,
   "id": "36828416",
   "metadata": {},
   "outputs": [],
   "source": [
    "def getChemfromKG(mainGraph):\n",
    "\n",
    "    chem_list = []\n",
    "    for u, v, data in mainGraph.edges(data=True):\n",
    "        \n",
    "        if 'CHEMBL' in u.name:\n",
    "            if u.name not in chem_list:\n",
    "                chem_list.append(u.name)\n",
    "\n",
    "        if 'CHEMBL' in v.name:\n",
    "            if v.name not in chem_list:\n",
    "                chem_list.append(v.name)\n",
    "                \n",
    "    return(chem_list)\n",
    "\n"
   ]
  },
  {
   "cell_type": "code",
   "execution_count": null,
   "id": "b1b9c205",
   "metadata": {},
   "outputs": [],
   "source": [
    "viral_drugs = getChemfromKG(viral_drugs_kg)\n",
    "viral_drugs"
   ]
  },
  {
   "cell_type": "markdown",
   "id": "041320ab",
   "metadata": {},
   "source": [
    "# Function to retrieve chemicals in Phase IV, Modification to RetDrugInd function"
   ]
  },
  {
   "cell_type": "code",
   "execution_count": null,
   "id": "cec05016",
   "metadata": {},
   "outputs": [],
   "source": [
    "def RetDrugInd_phase4(chemblIDs) -> dict:\n",
    "    \"\"\"Function to retrieve associated diseases from ChEMBL\n",
    "\n",
    "    :param chemblIDs:\n",
    "    :return:\n",
    "    \"\"\"\n",
    "    getDrugInd = new_client.drug_indication\n",
    "\n",
    "    drugIndList = []\n",
    "    for chemblid in tqdm(chemblIDs, desc='Retrieving diseases from ChEMBL'):\n",
    "        drugInd = getDrugInd.filter(\n",
    "            molecule_chembl_id=chemblid\n",
    "        ).only(['mesh_heading','max_phase_for_ind'])\n",
    "        \n",
    "        data = []\n",
    "        \n",
    "#         print(drugInd)\n",
    "#         break\n",
    "        \n",
    "        for ind in drugInd:\n",
    "            if int(ind.get('max_phase_for_ind')<4):\n",
    "                continue\n",
    "            data.append(ind)\n",
    "                \n",
    "        \n",
    "        drugIndList.append(list(data))\n",
    "\n",
    "    named_drugIndList = dict(zip(chemblIDs, drugIndList))\n",
    "    named_drugIndList = {\n",
    "        k: v\n",
    "        for k, v in named_drugIndList.items()\n",
    "        if v\n",
    "    }\n",
    "    return named_drugIndList"
   ]
  },
  {
   "cell_type": "code",
   "execution_count": null,
   "id": "859ea20e",
   "metadata": {
    "scrolled": true
   },
   "outputs": [],
   "source": [
    "phase4_drugs = RetDrugInd_phase4(viral_drugs)\n",
    "phase4_drugs\n"
   ]
  },
  {
   "cell_type": "code",
   "execution_count": null,
   "id": "9bfebd4b",
   "metadata": {},
   "outputs": [],
   "source": [
    "#convert dict to a dataframe\n",
    "\n",
    "#step 1\n",
    "#generate list for chemicals that have sub-dict\n",
    "chem_list = []\n",
    "for chem in phase4_drugs:\n",
    "    for dis in phase4_drugs[chem]:\n",
    "        chem_list.append(chem)\n",
    "\n",
    "#step 2\n",
    "#create df from sub-dict        \n",
    "phase4drugs = pd.concat([pd.DataFrame(d) for d in phase4_drugs.values()], ignore_index=True)\n",
    "\n",
    "#step 3\n",
    "#append step 1 to step 2\n",
    "phase4drugs['Drug'] = chem_list"
   ]
  },
  {
   "cell_type": "code",
   "execution_count": null,
   "id": "b2e4f2a0",
   "metadata": {},
   "outputs": [],
   "source": [
    "phase4drugs.head(5)\n",
    "phase4drugs.to_csv('data/export/phase4drugs.csv')\n"
   ]
  },
  {
   "cell_type": "code",
   "execution_count": null,
   "id": "8a376547",
   "metadata": {},
   "outputs": [],
   "source": [
    "drugs_CT4 = list(phase4_drugs.keys())\n",
    "drugs_CT4"
   ]
  },
  {
   "cell_type": "markdown",
   "id": "b3731951",
   "metadata": {},
   "source": [
    "# Extend chemical nodes with Mech. of action and target proteins, filter out diseases, sideEffect and assays"
   ]
  },
  {
   "cell_type": "code",
   "execution_count": null,
   "id": "50f0f12f",
   "metadata": {},
   "outputs": [],
   "source": [
    "query_graph = filter_graph(mpox_graph,drugs_CT4)\n",
    "filter_se = []\n",
    "for node in query_graph:\n",
    "    if node.namespace == 'SideEffect' or node.namespace == 'Disease' or node.namespace== 'ChEMBLAssay':\n",
    "        filter_se.append(node)\n",
    "\n",
    "\n"
   ]
  },
  {
   "cell_type": "code",
   "execution_count": null,
   "id": "b70173e6",
   "metadata": {},
   "outputs": [],
   "source": [
    "G = query_graph.copy()\n",
    "G.remove_nodes_from([n for n in G if n in set(filter_se)])"
   ]
  },
  {
   "cell_type": "markdown",
   "id": "917c4fbf",
   "metadata": {},
   "source": []
  },
  {
   "cell_type": "code",
   "execution_count": null,
   "id": "22943d2f",
   "metadata": {},
   "outputs": [],
   "source": [
    "to_jupyter(G)"
   ]
  },
  {
   "cell_type": "code",
   "execution_count": null,
   "id": "60f21ae7",
   "metadata": {
    "scrolled": true
   },
   "outputs": [],
   "source": [
    "mpox_chembl"
   ]
  },
  {
   "cell_type": "code",
   "execution_count": null,
   "id": "9ad5996e",
   "metadata": {},
   "outputs": [],
   "source": [
    "viral_drugs"
   ]
  },
  {
   "cell_type": "code",
   "execution_count": null,
   "id": "d5428161",
   "metadata": {},
   "outputs": [],
   "source": [
    "list(set(mpox_chembl)&set(viral_drugs))"
   ]
  },
  {
   "cell_type": "markdown",
   "id": "d029ffce",
   "metadata": {},
   "source": [
    "# Misc"
   ]
  },
  {
   "cell_type": "code",
   "execution_count": null,
   "id": "7848a7a0",
   "metadata": {},
   "outputs": [],
   "source": [
    "def RetMech(chemblIds) -> dict:\n",
    "    \"\"\"Function to retrieve mechanism of actions and target proteins from ChEMBL\n",
    "\n",
    "    :param chemblIds:\n",
    "    :return:\n",
    "    \"\"\"\n",
    "    getMech = new_client.mechanism\n",
    "\n",
    "    mechList = []\n",
    "    for chemblid in tqdm(chemblIds, desc='Retrieving mechanisms from ChEMBL'):\n",
    "        mechs = getMech.filter(\n",
    "            molecule_chembl_id=chemblid\n",
    "        ).only(['mechanism_of_action', 'mechanism_refs','target_chembl_id','action_type'])\n",
    "        \n",
    "        \n",
    "        mechList.append(list(mechs))\n",
    "        \n",
    "\n",
    "\n",
    "    named_mechList = dict(zip(chemblIds, mechList))\n",
    "    named_mechList = {\n",
    "        k: v\n",
    "        for k, v in named_mechList.items()\n",
    "        if v\n",
    "    }\n",
    "    return named_mechList\n"
   ]
  },
  {
   "cell_type": "code",
   "execution_count": null,
   "id": "8d91567d",
   "metadata": {
    "scrolled": false
   },
   "outputs": [],
   "source": [
    "a ='CHEMBL1643'\n",
    "test = RetMech(viral_drugs)\n",
    "test\n"
   ]
  },
  {
   "cell_type": "code",
   "execution_count": null,
   "id": "e21f6c04",
   "metadata": {},
   "outputs": [],
   "source": [
    "to_jupyter(filter_graph(mpox_graph,'NS5B'))"
   ]
  },
  {
   "cell_type": "code",
   "execution_count": null,
   "id": "70f6234e",
   "metadata": {},
   "outputs": [],
   "source": []
  },
  {
   "cell_type": "code",
   "execution_count": null,
   "id": "6f738a42",
   "metadata": {},
   "outputs": [],
   "source": [
    "#test\n",
    "import networkx as nx\n",
    "\n",
    "tg = pybel.BELGraph(name='Monkeypox Graph', version=\"0.0.1\")\n",
    "\n",
    "tg = uniprot_rel(protList_ext, 'HGNC', tg)\n"
   ]
  }
 ],
 "metadata": {
  "kernelspec": {
   "display_name": "Python 3 (ipykernel)",
   "language": "python",
   "name": "python3"
  },
  "language_info": {
   "codemirror_mode": {
    "name": "ipython",
    "version": 3
   },
   "file_extension": ".py",
   "mimetype": "text/x-python",
   "name": "python",
   "nbconvert_exporter": "python",
   "pygments_lexer": "ipython3",
   "version": "3.10.4"
  }
 },
 "nbformat": 4,
 "nbformat_minor": 5
}
